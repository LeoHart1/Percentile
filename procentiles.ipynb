{
  "metadata": {
    "kernelspec": {
      "name": "xpython",
      "display_name": "Python 3.13 (XPython)",
      "language": "python"
    },
    "language_info": {
      "file_extension": ".py",
      "mimetype": "text/x-python",
      "name": "python",
      "version": "3.13.1"
    }
  },
  "nbformat_minor": 5,
  "nbformat": 4,
  "cells": [
    {
      "id": "f685f239-4f85-47a3-8c54-3212920037c3",
      "cell_type": "code",
      "source": "import numpy as np\nfrom scipy.stats import percentileofscore\n\ndata = np.loadtxt(\"SOCR-HeightWeight.csv\", delimiter=\",\", dtype=float, skiprows=1)\n\nheights = data[:, 1]\n\nstandard_heights = np.std(heights, ddof=1)\n\nuser_height_input = float(input(\"Enter your height: \"))\n\nuser_percentile = percentileofscore(heights, user_height_input, kind='rank')\nround(user_percentile, 2)\n\nprint(f\"Your height is at the {user_percentile}th percentile in the dataset.\")",
      "metadata": {
        "trusted": true
      },
      "outputs": [],
      "execution_count": null
    }
  ]
}